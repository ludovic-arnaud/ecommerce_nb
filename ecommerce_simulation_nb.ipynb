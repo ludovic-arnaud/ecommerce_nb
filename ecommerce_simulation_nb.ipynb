{
 "cells": [
  {
   "cell_type": "markdown",
   "id": "8908eaab",
   "metadata": {
    "toc": true
   },
   "source": [
    "<h1>Table of Contents<span class=\"tocSkip\"></span></h1>\n",
    "<div class=\"toc\"><ul class=\"toc-item\"><li><span><a href=\"#1.-Récupération-des-données\" data-toc-modified-id=\"1.-Récupération-des-données-1\">1. Récupération des données</a></span></li><li><span><a href=\"#2.-Stabilité-des-données-dans-le-temps\" data-toc-modified-id=\"2.-Stabilité-des-données-dans-le-temps-2\">2. Stabilité des données dans le temps</a></span><ul class=\"toc-item\"><li><span><a href=\"#2.1.-Evaluation-avec-le-score-de-silhouette\" data-toc-modified-id=\"2.1.-Evaluation-avec-le-score-de-silhouette-2.1\">2.1. Evaluation avec le score de silhouette</a></span></li><li><span><a href=\"#2.2.-Evaluation-avec-le-Adjusted-Rand-Index\" data-toc-modified-id=\"2.2.-Evaluation-avec-le-Adjusted-Rand-Index-2.2\">2.2. Evaluation avec le Adjusted Rand Index</a></span></li></ul></li></ul></div>"
   ]
  },
  {
   "cell_type": "markdown",
   "id": "209aea16",
   "metadata": {},
   "source": [
    "# Segmentez des clients d'un site e-commerce - Simulation"
   ]
  },
  {
   "cell_type": "markdown",
   "id": "53ec4ba9",
   "metadata": {},
   "source": [
    "L'objectif de ce notebook est à partir du meilleur modèle sélectionné dans le notebook essais de déterminer la fréquence nécessaire de mise à jour du modèle de segmentation, afin que celui-ci reste pertinent.\n",
    "\n",
    "Les essais ont été réalisés sur une période 8 mois. Je vais ici prédire pour chaque mois restant les clusters et évaluer la performance du modèle k-means avec le score de silhouette. On va vérifier si il y a une dégradation ou non de celui-ci dans le temps.\n",
    "\n",
    "Je vais également entrainer le modèle sur la totalité des données pour récupérer tous les clusters. Je vais prédire à partir du modèle d'entrainement prédire les clusters sur chaque mois et calculer sur chaque prériode le Adjusted Rand Index pour évaluer la stabilté du modèle dans le temps."
   ]
  },
  {
   "cell_type": "code",
   "execution_count": 1,
   "id": "470071df",
   "metadata": {},
   "outputs": [],
   "source": [
    "import os\n",
    "\n",
    "import matplotlib as mlp\n",
    "import numpy as np\n",
    "import pandas as pd\n",
    "import seaborn as sns\n",
    "import sys\n",
    "\n",
    "from sklearn import cluster, metrics\n",
    "\n",
    "from matplotlib import pyplot as plt\n",
    "from sklearn.preprocessing import StandardScaler\n",
    "from sklearn.metrics.cluster import adjusted_rand_score"
   ]
  },
  {
   "cell_type": "markdown",
   "id": "3ac7ecc1",
   "metadata": {},
   "source": [
    "## 1. Récupération des données"
   ]
  },
  {
   "cell_type": "code",
   "execution_count": 2,
   "id": "1f8ed7d2",
   "metadata": {},
   "outputs": [],
   "source": [
    "path = \"./data/cleaned/\"\n",
    "filename = \"final_data.csv\""
   ]
  },
  {
   "cell_type": "code",
   "execution_count": 3,
   "id": "ade49b03",
   "metadata": {},
   "outputs": [
    {
     "data": {
      "text/html": [
       "<div>\n",
       "<style scoped>\n",
       "    .dataframe tbody tr th:only-of-type {\n",
       "        vertical-align: middle;\n",
       "    }\n",
       "\n",
       "    .dataframe tbody tr th {\n",
       "        vertical-align: top;\n",
       "    }\n",
       "\n",
       "    .dataframe thead th {\n",
       "        text-align: right;\n",
       "    }\n",
       "</style>\n",
       "<table border=\"1\" class=\"dataframe\">\n",
       "  <thead>\n",
       "    <tr style=\"text-align: right;\">\n",
       "      <th></th>\n",
       "      <th>last_order</th>\n",
       "      <th>mean_delivery_time</th>\n",
       "      <th>mean_price</th>\n",
       "      <th>mean_review_score</th>\n",
       "      <th>total_price</th>\n",
       "      <th>total_orders</th>\n",
       "      <th>delivered_ratio</th>\n",
       "      <th>recency</th>\n",
       "    </tr>\n",
       "  </thead>\n",
       "  <tbody>\n",
       "    <tr>\n",
       "      <th>0</th>\n",
       "      <td>2018-05-10 11:11:18</td>\n",
       "      <td>2.001604</td>\n",
       "      <td>4.874434</td>\n",
       "      <td>5.0</td>\n",
       "      <td>4.874434</td>\n",
       "      <td>1</td>\n",
       "      <td>1.0</td>\n",
       "      <td>4.762174</td>\n",
       "    </tr>\n",
       "    <tr>\n",
       "      <th>1</th>\n",
       "      <td>2018-05-07 18:25:44</td>\n",
       "      <td>1.382288</td>\n",
       "      <td>2.990720</td>\n",
       "      <td>4.0</td>\n",
       "      <td>2.990720</td>\n",
       "      <td>1</td>\n",
       "      <td>1.0</td>\n",
       "      <td>4.779123</td>\n",
       "    </tr>\n",
       "    <tr>\n",
       "      <th>2</th>\n",
       "      <td>2017-03-10 21:05:03</td>\n",
       "      <td>3.285852</td>\n",
       "      <td>4.248495</td>\n",
       "      <td>3.0</td>\n",
       "      <td>4.248495</td>\n",
       "      <td>1</td>\n",
       "      <td>1.0</td>\n",
       "      <td>6.295266</td>\n",
       "    </tr>\n",
       "    <tr>\n",
       "      <th>3</th>\n",
       "      <td>2017-10-12 20:49:17</td>\n",
       "      <td>3.045640</td>\n",
       "      <td>3.295466</td>\n",
       "      <td>4.0</td>\n",
       "      <td>3.295466</td>\n",
       "      <td>1</td>\n",
       "      <td>1.0</td>\n",
       "      <td>5.786897</td>\n",
       "    </tr>\n",
       "    <tr>\n",
       "      <th>4</th>\n",
       "      <td>2017-11-14 20:06:52</td>\n",
       "      <td>2.648048</td>\n",
       "      <td>5.198497</td>\n",
       "      <td>5.0</td>\n",
       "      <td>5.198497</td>\n",
       "      <td>1</td>\n",
       "      <td>1.0</td>\n",
       "      <td>5.680173</td>\n",
       "    </tr>\n",
       "  </tbody>\n",
       "</table>\n",
       "</div>"
      ],
      "text/plain": [
       "            last_order  mean_delivery_time  mean_price  mean_review_score  \\\n",
       "0  2018-05-10 11:11:18            2.001604    4.874434                5.0   \n",
       "1  2018-05-07 18:25:44            1.382288    2.990720                4.0   \n",
       "2  2017-03-10 21:05:03            3.285852    4.248495                3.0   \n",
       "3  2017-10-12 20:49:17            3.045640    3.295466                4.0   \n",
       "4  2017-11-14 20:06:52            2.648048    5.198497                5.0   \n",
       "\n",
       "   total_price  total_orders  delivered_ratio   recency  \n",
       "0     4.874434             1              1.0  4.762174  \n",
       "1     2.990720             1              1.0  4.779123  \n",
       "2     4.248495             1              1.0  6.295266  \n",
       "3     3.295466             1              1.0  5.786897  \n",
       "4     5.198497             1              1.0  5.680173  "
      ]
     },
     "execution_count": 3,
     "metadata": {},
     "output_type": "execute_result"
    }
   ],
   "source": [
    "# create dataframe\n",
    "data = pd.read_csv(path + filename)\n",
    "data.head()"
   ]
  },
  {
   "cell_type": "markdown",
   "id": "4716d601",
   "metadata": {},
   "source": [
    "Reprenons les dates maxi et mini de notre jeu de données."
   ]
  },
  {
   "cell_type": "code",
   "execution_count": 4,
   "id": "070ce8e7",
   "metadata": {},
   "outputs": [
    {
     "data": {
      "text/plain": [
       "min    2016-09-15 12:16:38\n",
       "max    2018-09-03 17:40:06\n",
       "Name: last_order, dtype: object"
      ]
     },
     "execution_count": 4,
     "metadata": {},
     "output_type": "execute_result"
    }
   ],
   "source": [
    "data['last_order'].agg(['min', 'max'])"
   ]
  },
  {
   "cell_type": "markdown",
   "id": "f61b1c62",
   "metadata": {},
   "source": [
    "Recréeons notre jeu de données d'entrainement."
   ]
  },
  {
   "cell_type": "code",
   "execution_count": 5,
   "id": "920d064d",
   "metadata": {},
   "outputs": [],
   "source": [
    "start_date = '2017-02-01 00:00:00'\n",
    "end_date = '2017-09-30 23:59:59'\n",
    "\n",
    "mask = (data['last_order'] >= start_date) & (data['last_order'] <= end_date)\n",
    "select_data = data.loc[mask]"
   ]
  },
  {
   "cell_type": "code",
   "execution_count": 6,
   "id": "eb1d04a2",
   "metadata": {},
   "outputs": [],
   "source": [
    "# delete last_order date\n",
    "X = select_data.drop(['last_order'], axis=1)"
   ]
  },
  {
   "cell_type": "code",
   "execution_count": 7,
   "id": "efea4157",
   "metadata": {},
   "outputs": [],
   "source": [
    "# scaling datas\n",
    "scaler = StandardScaler()\n",
    "X_scaled = scaler.fit_transform(X)"
   ]
  },
  {
   "cell_type": "markdown",
   "id": "fb02a4be",
   "metadata": {},
   "source": [
    "## 2. Stabilité des données dans le temps"
   ]
  },
  {
   "cell_type": "markdown",
   "id": "7d4186d1",
   "metadata": {},
   "source": [
    "### 2.1. Evaluation avec le score de silhouette"
   ]
  },
  {
   "cell_type": "code",
   "execution_count": 8,
   "id": "0a9c2401",
   "metadata": {},
   "outputs": [],
   "source": [
    "# training model and calculate initial silhouette score\n",
    "kmeans = cluster.KMeans(n_clusters=6, n_init=1, random_state=42)\n",
    "kmeans.fit(X_scaled)\n",
    "k_silh = metrics.silhouette_score(X_scaled, kmeans.labels_)\n",
    "kmeans_statility_scores = {pd.to_datetime(end_date): k_silh}"
   ]
  },
  {
   "cell_type": "code",
   "execution_count": 9,
   "id": "e2f727e7",
   "metadata": {},
   "outputs": [
    {
     "name": "stdout",
     "output_type": "stream",
     "text": [
      "Date: 2017-10-30 23:59:59, clusters {1, 2, 3, 4, 5}\n",
      "Date: 2017-11-29 23:59:59, clusters {1, 2, 3, 4, 5}\n",
      "Date: 2017-12-29 23:59:59, clusters {1, 2, 3, 4, 5}\n",
      "Date: 2018-01-28 23:59:59, clusters {1, 2, 3, 4, 5}\n",
      "Date: 2018-02-27 23:59:59, clusters {1, 2, 3, 4, 5}\n",
      "Date: 2018-03-29 23:59:59, clusters {1, 2, 3, 4, 5}\n",
      "Date: 2018-04-28 23:59:59, clusters {1, 2, 3, 4, 5}\n",
      "Date: 2018-05-28 23:59:59, clusters {1, 2, 3, 4, 5}\n",
      "Date: 2018-06-27 23:59:59, clusters {1, 2, 3, 4, 5}\n",
      "Date: 2018-07-27 23:59:59, clusters {1, 2, 3, 5}\n"
     ]
    }
   ],
   "source": [
    "for i in np.arange(0, 10):\n",
    "    # create a dataframe and scaling it to predict the news clusters for a time lapse\n",
    "    first_date = pd.to_datetime(end_date) + pd.Timedelta(days=30*i)\n",
    "    last_date = pd.to_datetime(end_date) + pd.Timedelta(days=30*(i+1))\n",
    "    mask = (pd.to_datetime(data['last_order']) > first_date) & (\n",
    "        pd.to_datetime(data['last_order']) <= last_date)\n",
    "    df = data.loc[mask]\n",
    "    df = df.drop(['last_order'], axis=1)\n",
    "    df_scaled = scaler.transform(df)\n",
    "\n",
    "    # predict the new clusters\n",
    "    mylabels = kmeans.predict(df_scaled)\n",
    "    print(\"Date: {}, clusters {}\".format(last_date, set(mylabels)))\n",
    "\n",
    "    # calculate the silhouette score for the time lapse\n",
    "    k_silh = metrics.silhouette_score(df_scaled, mylabels)\n",
    "    kmeans_statility_scores.update({last_date: k_silh})"
   ]
  },
  {
   "cell_type": "code",
   "execution_count": 10,
   "id": "9013bbce",
   "metadata": {},
   "outputs": [],
   "source": [
    "# create a dataframe with all the silhouette scores by date\n",
    "silhouettes_df = pd.DataFrame(kmeans_statility_scores.items(), columns=[\n",
    "                              'Date', 'Score']).sort_values(by=['Date'])"
   ]
  },
  {
   "cell_type": "code",
   "execution_count": 11,
   "id": "51403c51",
   "metadata": {},
   "outputs": [
    {
     "data": {
      "image/png": "[encoded data removed]",
      "text/plain": [
       "<Figure size 1000x500 with 1 Axes>"
      ]
     },
     "metadata": {},
     "output_type": "display_data"
    }
   ],
   "source": [
    "# plot the silhouette scores by date\n",
    "plt.figure(figsize=(10, 5))\n",
    "sns.lineplot(data=silhouettes_df, x='Date',\n",
    "             y='Score', marker=\"s\", color='green')\n",
    "plt.xlabel(\"Date\")\n",
    "plt.xticks(rotation=90, ha='right')\n",
    "plt.ylabel(\"Silhouette score\")\n",
    "plt.grid()\n",
    "plt.show()"
   ]
  },
  {
   "cell_type": "markdown",
   "id": "de651a1c",
   "metadata": {},
   "source": [
    "Le score de silhouette est constant jusqu'en juin 2018. Après cette date il augmente significativement. On peut expliquer cela de deux façons. La première est que le modèle est plus efficace pour déterminer les clusters. La seconde, plus probable, est que les nouvelles données font que l'on s'éloigne des résultats obtenus avec le modèle d'entrainement. Il faudrait donc réentrainer le modèle au bout de 8-9 mois pour segmenter au mieux les clients en tenant compte des nouveaux clients et des commandes supplémentaires.\n",
    "\n",
    "Je vais vérifier cela grâce à l'Adjusted Rand Index."
   ]
  },
  {
   "cell_type": "markdown",
   "id": "4e015b96",
   "metadata": {},
   "source": [
    "### 2.2. Evaluation avec le Adjusted Rand Index"
   ]
  },
  {
   "cell_type": "code",
   "execution_count": 12,
   "id": "7dffde19",
   "metadata": {},
   "outputs": [],
   "source": [
    "# create dataframe with all the datas minus the first monthes\n",
    "start_date = '2017-02-01'\n",
    "end_date = '2018-09-03'\n",
    "\n",
    "mask = (data['last_order'] >= start_date) & (data['last_order'] <= end_date)\n",
    "data_clustered = data.loc[mask]"
   ]
  },
  {
   "cell_type": "code",
   "execution_count": 13,
   "id": "a705020d",
   "metadata": {},
   "outputs": [],
   "source": [
    "# dropping dates and scaling datas\n",
    "X_clustered = data_clustered.drop(['last_order'], axis=1)\n",
    "X_clustered_scaled = scaler.fit_transform(X_clustered)"
   ]
  },
  {
   "cell_type": "code",
   "execution_count": 14,
   "id": "52851077",
   "metadata": {},
   "outputs": [
    {
     "name": "stderr",
     "output_type": "stream",
     "text": [
      "C:\\Users\\ludov\\AppData\\Local\\Temp\\ipykernel_5552\\1410834952.py:4: SettingWithCopyWarning: \n",
      "A value is trying to be set on a copy of a slice from a DataFrame.\n",
      "Try using .loc[row_indexer,col_indexer] = value instead\n",
      "\n",
      "See the caveats in the documentation: https://pandas.pydata.org/pandas-docs/stable/user_guide/indexing.html#returning-a-view-versus-a-copy\n",
      "  data_clustered['true_labels'] = kmeans.labels_\n"
     ]
    }
   ],
   "source": [
    "# fit the model on the scaled datas and determine the clusters\n",
    "kmeans = cluster.KMeans(n_clusters=6, n_init=1, random_state=42)\n",
    "kmeans.fit(X_clustered_scaled)\n",
    "data_clustered['true_labels'] = kmeans.labels_"
   ]
  },
  {
   "cell_type": "code",
   "execution_count": 15,
   "id": "15f7cf3e",
   "metadata": {},
   "outputs": [
    {
     "data": {
      "text/html": [
       "<div>\n",
       "<style scoped>\n",
       "    .dataframe tbody tr th:only-of-type {\n",
       "        vertical-align: middle;\n",
       "    }\n",
       "\n",
       "    .dataframe tbody tr th {\n",
       "        vertical-align: top;\n",
       "    }\n",
       "\n",
       "    .dataframe thead th {\n",
       "        text-align: right;\n",
       "    }\n",
       "</style>\n",
       "<table border=\"1\" class=\"dataframe\">\n",
       "  <thead>\n",
       "    <tr style=\"text-align: right;\">\n",
       "      <th></th>\n",
       "      <th>last_order</th>\n",
       "      <th>mean_delivery_time</th>\n",
       "      <th>mean_price</th>\n",
       "      <th>mean_review_score</th>\n",
       "      <th>total_price</th>\n",
       "      <th>total_orders</th>\n",
       "      <th>delivered_ratio</th>\n",
       "      <th>recency</th>\n",
       "      <th>true_labels</th>\n",
       "    </tr>\n",
       "  </thead>\n",
       "  <tbody>\n",
       "    <tr>\n",
       "      <th>0</th>\n",
       "      <td>2018-05-10 11:11:18</td>\n",
       "      <td>2.001604</td>\n",
       "      <td>4.874434</td>\n",
       "      <td>5.0</td>\n",
       "      <td>4.874434</td>\n",
       "      <td>1</td>\n",
       "      <td>1.0</td>\n",
       "      <td>4.762174</td>\n",
       "      <td>5</td>\n",
       "    </tr>\n",
       "    <tr>\n",
       "      <th>1</th>\n",
       "      <td>2018-05-07 18:25:44</td>\n",
       "      <td>1.382288</td>\n",
       "      <td>2.990720</td>\n",
       "      <td>4.0</td>\n",
       "      <td>2.990720</td>\n",
       "      <td>1</td>\n",
       "      <td>1.0</td>\n",
       "      <td>4.779123</td>\n",
       "      <td>2</td>\n",
       "    </tr>\n",
       "    <tr>\n",
       "      <th>2</th>\n",
       "      <td>2017-03-10 21:05:03</td>\n",
       "      <td>3.285852</td>\n",
       "      <td>4.248495</td>\n",
       "      <td>3.0</td>\n",
       "      <td>4.248495</td>\n",
       "      <td>1</td>\n",
       "      <td>1.0</td>\n",
       "      <td>6.295266</td>\n",
       "      <td>3</td>\n",
       "    </tr>\n",
       "    <tr>\n",
       "      <th>3</th>\n",
       "      <td>2017-10-12 20:49:17</td>\n",
       "      <td>3.045640</td>\n",
       "      <td>3.295466</td>\n",
       "      <td>4.0</td>\n",
       "      <td>3.295466</td>\n",
       "      <td>1</td>\n",
       "      <td>1.0</td>\n",
       "      <td>5.786897</td>\n",
       "      <td>2</td>\n",
       "    </tr>\n",
       "    <tr>\n",
       "      <th>4</th>\n",
       "      <td>2017-11-14 20:06:52</td>\n",
       "      <td>2.648048</td>\n",
       "      <td>5.198497</td>\n",
       "      <td>5.0</td>\n",
       "      <td>5.198497</td>\n",
       "      <td>1</td>\n",
       "      <td>1.0</td>\n",
       "      <td>5.680173</td>\n",
       "      <td>5</td>\n",
       "    </tr>\n",
       "  </tbody>\n",
       "</table>\n",
       "</div>"
      ],
      "text/plain": [
       "            last_order  mean_delivery_time  mean_price  mean_review_score  \\\n",
       "0  2018-05-10 11:11:18            2.001604    4.874434                5.0   \n",
       "1  2018-05-07 18:25:44            1.382288    2.990720                4.0   \n",
       "2  2017-03-10 21:05:03            3.285852    4.248495                3.0   \n",
       "3  2017-10-12 20:49:17            3.045640    3.295466                4.0   \n",
       "4  2017-11-14 20:06:52            2.648048    5.198497                5.0   \n",
       "\n",
       "   total_price  total_orders  delivered_ratio   recency  true_labels  \n",
       "0     4.874434             1              1.0  4.762174            5  \n",
       "1     2.990720             1              1.0  4.779123            2  \n",
       "2     4.248495             1              1.0  6.295266            3  \n",
       "3     3.295466             1              1.0  5.786897            2  \n",
       "4     5.198497             1              1.0  5.680173            5  "
      ]
     },
     "execution_count": 15,
     "metadata": {},
     "output_type": "execute_result"
    }
   ],
   "source": [
    "data_clustered.head()"
   ]
  },
  {
   "cell_type": "code",
   "execution_count": 16,
   "id": "fbd2e801",
   "metadata": {},
   "outputs": [
    {
     "data": {
      "text/html": [
       "<style>#sk-container-id-1 {color: black;}#sk-container-id-1 pre{padding: 0;}#sk-container-id-1 div.sk-toggleable {background-color: white;}#sk-container-id-1 label.sk-toggleable__label {cursor: pointer;display: block;width: 100%;margin-bottom: 0;padding: 0.3em;box-sizing: border-box;text-align: center;}#sk-container-id-1 label.sk-toggleable__label-arrow:before {content: \"▸\";float: left;margin-right: 0.25em;color: #696969;}#sk-container-id-1 label.sk-toggleable__label-arrow:hover:before {color: black;}#sk-container-id-1 div.sk-estimator:hover label.sk-toggleable__label-arrow:before {color: black;}#sk-container-id-1 div.sk-toggleable__content {max-height: 0;max-width: 0;overflow: hidden;text-align: left;background-color: #f0f8ff;}#sk-container-id-1 div.sk-toggleable__content pre {margin: 0.2em;color: black;border-radius: 0.25em;background-color: #f0f8ff;}#sk-container-id-1 input.sk-toggleable__control:checked~div.sk-toggleable__content {max-height: 200px;max-width: 100%;overflow: auto;}#sk-container-id-1 input.sk-toggleable__control:checked~label.sk-toggleable__label-arrow:before {content: \"▾\";}#sk-container-id-1 div.sk-estimator input.sk-toggleable__control:checked~label.sk-toggleable__label {background-color: #d4ebff;}#sk-container-id-1 div.sk-label input.sk-toggleable__control:checked~label.sk-toggleable__label {background-color: #d4ebff;}#sk-container-id-1 input.sk-hidden--visually {border: 0;clip: rect(1px 1px 1px 1px);clip: rect(1px, 1px, 1px, 1px);height: 1px;margin: -1px;overflow: hidden;padding: 0;position: absolute;width: 1px;}#sk-container-id-1 div.sk-estimator {font-family: monospace;background-color: #f0f8ff;border: 1px dotted black;border-radius: 0.25em;box-sizing: border-box;margin-bottom: 0.5em;}#sk-container-id-1 div.sk-estimator:hover {background-color: #d4ebff;}#sk-container-id-1 div.sk-parallel-item::after {content: \"\";width: 100%;border-bottom: 1px solid gray;flex-grow: 1;}#sk-container-id-1 div.sk-label:hover label.sk-toggleable__label {background-color: #d4ebff;}#sk-container-id-1 div.sk-serial::before {content: \"\";position: absolute;border-left: 1px solid gray;box-sizing: border-box;top: 0;bottom: 0;left: 50%;z-index: 0;}#sk-container-id-1 div.sk-serial {display: flex;flex-direction: column;align-items: center;background-color: white;padding-right: 0.2em;padding-left: 0.2em;position: relative;}#sk-container-id-1 div.sk-item {position: relative;z-index: 1;}#sk-container-id-1 div.sk-parallel {display: flex;align-items: stretch;justify-content: center;background-color: white;position: relative;}#sk-container-id-1 div.sk-item::before, #sk-container-id-1 div.sk-parallel-item::before {content: \"\";position: absolute;border-left: 1px solid gray;box-sizing: border-box;top: 0;bottom: 0;left: 50%;z-index: -1;}#sk-container-id-1 div.sk-parallel-item {display: flex;flex-direction: column;z-index: 1;position: relative;background-color: white;}#sk-container-id-1 div.sk-parallel-item:first-child::after {align-self: flex-end;width: 50%;}#sk-container-id-1 div.sk-parallel-item:last-child::after {align-self: flex-start;width: 50%;}#sk-container-id-1 div.sk-parallel-item:only-child::after {width: 0;}#sk-container-id-1 div.sk-dashed-wrapped {border: 1px dashed gray;margin: 0 0.4em 0.5em 0.4em;box-sizing: border-box;padding-bottom: 0.4em;background-color: white;}#sk-container-id-1 div.sk-label label {font-family: monospace;font-weight: bold;display: inline-block;line-height: 1.2em;}#sk-container-id-1 div.sk-label-container {text-align: center;}#sk-container-id-1 div.sk-container {/* jupyter's `normalize.less` sets `[hidden] { display: none; }` but bootstrap.min.css set `[hidden] { display: none !important; }` so we also need the `!important` here to be able to override the default hidden behavior on the sphinx rendered scikit-learn.org. See: https://github.com/scikit-learn/scikit-learn/issues/21755 */display: inline-block !important;position: relative;}#sk-container-id-1 div.sk-text-repr-fallback {display: none;}</style><div id=\"sk-container-id-1\" class=\"sk-top-container\"><div class=\"sk-text-repr-fallback\"><pre>KMeans(n_clusters=6, n_init=1, random_state=42)</pre><b>In a Jupyter environment, please rerun this cell to show the HTML representation or trust the notebook. <br />On GitHub, the HTML representation is unable to render, please try loading this page with nbviewer.org.</b></div><div class=\"sk-container\" hidden><div class=\"sk-item\"><div class=\"sk-estimator sk-toggleable\"><input class=\"sk-toggleable__control sk-hidden--visually\" id=\"sk-estimator-id-1\" type=\"checkbox\" checked><label for=\"sk-estimator-id-1\" class=\"sk-toggleable__label sk-toggleable__label-arrow\">KMeans</label><div class=\"sk-toggleable__content\"><pre>KMeans(n_clusters=6, n_init=1, random_state=42)</pre></div></div></div></div></div>"
      ],
      "text/plain": [
       "KMeans(n_clusters=6, n_init=1, random_state=42)"
      ]
     },
     "execution_count": 16,
     "metadata": {},
     "output_type": "execute_result"
    }
   ],
   "source": [
    "# training the model on the 8 first monthes\n",
    "kmeans_fit = cluster.KMeans(n_clusters=6, n_init=1, random_state=42)\n",
    "kmeans_fit.fit(X_scaled)"
   ]
  },
  {
   "cell_type": "code",
   "execution_count": 17,
   "id": "16e0e7b5",
   "metadata": {},
   "outputs": [
    {
     "name": "stderr",
     "output_type": "stream",
     "text": [
      "C:\\Users\\ludov\\AppData\\Local\\Temp\\ipykernel_5552\\3199714283.py:17: SettingWithCopyWarning: \n",
      "A value is trying to be set on a copy of a slice from a DataFrame.\n",
      "Try using .loc[row_indexer,col_indexer] = value instead\n",
      "\n",
      "See the caveats in the documentation: https://pandas.pydata.org/pandas-docs/stable/user_guide/indexing.html#returning-a-view-versus-a-copy\n",
      "  df_clustered['predict_labels'] = kmeans_fit.predict(df_scaled)\n",
      "C:\\Users\\ludov\\AppData\\Local\\Temp\\ipykernel_5552\\3199714283.py:17: SettingWithCopyWarning: \n",
      "A value is trying to be set on a copy of a slice from a DataFrame.\n",
      "Try using .loc[row_indexer,col_indexer] = value instead\n",
      "\n",
      "See the caveats in the documentation: https://pandas.pydata.org/pandas-docs/stable/user_guide/indexing.html#returning-a-view-versus-a-copy\n",
      "  df_clustered['predict_labels'] = kmeans_fit.predict(df_scaled)\n",
      "C:\\Users\\ludov\\AppData\\Local\\Temp\\ipykernel_5552\\3199714283.py:17: SettingWithCopyWarning: \n",
      "A value is trying to be set on a copy of a slice from a DataFrame.\n",
      "Try using .loc[row_indexer,col_indexer] = value instead\n",
      "\n",
      "See the caveats in the documentation: https://pandas.pydata.org/pandas-docs/stable/user_guide/indexing.html#returning-a-view-versus-a-copy\n",
      "  df_clustered['predict_labels'] = kmeans_fit.predict(df_scaled)\n",
      "C:\\Users\\ludov\\AppData\\Local\\Temp\\ipykernel_5552\\3199714283.py:17: SettingWithCopyWarning: \n",
      "A value is trying to be set on a copy of a slice from a DataFrame.\n",
      "Try using .loc[row_indexer,col_indexer] = value instead\n",
      "\n",
      "See the caveats in the documentation: https://pandas.pydata.org/pandas-docs/stable/user_guide/indexing.html#returning-a-view-versus-a-copy\n",
      "  df_clustered['predict_labels'] = kmeans_fit.predict(df_scaled)\n",
      "C:\\Users\\ludov\\AppData\\Local\\Temp\\ipykernel_5552\\3199714283.py:17: SettingWithCopyWarning: \n",
      "A value is trying to be set on a copy of a slice from a DataFrame.\n",
      "Try using .loc[row_indexer,col_indexer] = value instead\n",
      "\n",
      "See the caveats in the documentation: https://pandas.pydata.org/pandas-docs/stable/user_guide/indexing.html#returning-a-view-versus-a-copy\n",
      "  df_clustered['predict_labels'] = kmeans_fit.predict(df_scaled)\n",
      "C:\\Users\\ludov\\AppData\\Local\\Temp\\ipykernel_5552\\3199714283.py:17: SettingWithCopyWarning: \n",
      "A value is trying to be set on a copy of a slice from a DataFrame.\n",
      "Try using .loc[row_indexer,col_indexer] = value instead\n",
      "\n",
      "See the caveats in the documentation: https://pandas.pydata.org/pandas-docs/stable/user_guide/indexing.html#returning-a-view-versus-a-copy\n",
      "  df_clustered['predict_labels'] = kmeans_fit.predict(df_scaled)\n",
      "C:\\Users\\ludov\\AppData\\Local\\Temp\\ipykernel_5552\\3199714283.py:17: SettingWithCopyWarning: \n",
      "A value is trying to be set on a copy of a slice from a DataFrame.\n",
      "Try using .loc[row_indexer,col_indexer] = value instead\n",
      "\n",
      "See the caveats in the documentation: https://pandas.pydata.org/pandas-docs/stable/user_guide/indexing.html#returning-a-view-versus-a-copy\n",
      "  df_clustered['predict_labels'] = kmeans_fit.predict(df_scaled)\n",
      "C:\\Users\\ludov\\AppData\\Local\\Temp\\ipykernel_5552\\3199714283.py:17: SettingWithCopyWarning: \n",
      "A value is trying to be set on a copy of a slice from a DataFrame.\n",
      "Try using .loc[row_indexer,col_indexer] = value instead\n",
      "\n",
      "See the caveats in the documentation: https://pandas.pydata.org/pandas-docs/stable/user_guide/indexing.html#returning-a-view-versus-a-copy\n",
      "  df_clustered['predict_labels'] = kmeans_fit.predict(df_scaled)\n",
      "C:\\Users\\ludov\\AppData\\Local\\Temp\\ipykernel_5552\\3199714283.py:17: SettingWithCopyWarning: \n",
      "A value is trying to be set on a copy of a slice from a DataFrame.\n",
      "Try using .loc[row_indexer,col_indexer] = value instead\n",
      "\n",
      "See the caveats in the documentation: https://pandas.pydata.org/pandas-docs/stable/user_guide/indexing.html#returning-a-view-versus-a-copy\n",
      "  df_clustered['predict_labels'] = kmeans_fit.predict(df_scaled)\n",
      "C:\\Users\\ludov\\AppData\\Local\\Temp\\ipykernel_5552\\3199714283.py:17: SettingWithCopyWarning: \n",
      "A value is trying to be set on a copy of a slice from a DataFrame.\n",
      "Try using .loc[row_indexer,col_indexer] = value instead\n",
      "\n",
      "See the caveats in the documentation: https://pandas.pydata.org/pandas-docs/stable/user_guide/indexing.html#returning-a-view-versus-a-copy\n",
      "  df_clustered['predict_labels'] = kmeans_fit.predict(df_scaled)\n"
     ]
    }
   ],
   "source": [
    "end_date = '2017-09-30 23:59:59'\n",
    "ARI = {}\n",
    "for i in range(0, 10):\n",
    "    # create a dataframe and scaling it to predict the news clusters for a time lapse\n",
    "    first_date = pd.to_datetime(end_date) + pd.Timedelta(days=30*i)\n",
    "    last_date = pd.to_datetime(end_date) + pd.Timedelta(days=30*(i+1))\n",
    "    mask = (pd.to_datetime(data['last_order']) > first_date) & (\n",
    "        pd.to_datetime(data['last_order']) <= last_date)\n",
    "    df = data.loc[mask]\n",
    "    df = df.drop(['last_order'], axis=1)\n",
    "    df_scaled = scaler.fit_transform(df)\n",
    "\n",
    "    # get true_labels on the same time lapse\n",
    "    df_clustered = data_clustered.loc[mask]\n",
    "\n",
    "    # predict clusters\n",
    "    df_clustered['predict_labels'] = kmeans_fit.predict(df_scaled)\n",
    "\n",
    "    # calculate ARI for the time lapse\n",
    "    ari_score = adjusted_rand_score(\n",
    "        df_clustered['true_labels'], df_clustered['predict_labels'])\n",
    "    ARI.update({last_date: ari_score})"
   ]
  },
  {
   "cell_type": "code",
   "execution_count": 18,
   "id": "83884dd2",
   "metadata": {},
   "outputs": [],
   "source": [
    "# create a dataframe with all the ARI scores by date\n",
    "ari_df = pd.DataFrame(ARI.items(), columns=[\n",
    "                      'Date', 'ARI']).sort_values(by=['Date'])"
   ]
  },
  {
   "cell_type": "code",
   "execution_count": 19,
   "id": "ade3934e",
   "metadata": {},
   "outputs": [
    {
     "data": {
      "image/png": "[encoded data removed]",
      "text/plain": [
       "<Figure size 1000x500 with 1 Axes>"
      ]
     },
     "metadata": {},
     "output_type": "display_data"
    }
   ],
   "source": [
    "# plot ARI scores by date\n",
    "plt.figure(figsize=(10, 5))\n",
    "sns.lineplot(data=ari_df, x='Date', y='ARI', marker=\"s\",\n",
    "             color='blue', label='Stability')\n",
    "plt.xlabel(\"Date\")\n",
    "plt.xticks(rotation=90, ha='right')\n",
    "plt.ylabel(\"ARI\")\n",
    "plt.grid()\n",
    "plt.show()"
   ]
  },
  {
   "cell_type": "markdown",
   "id": "aace8f8a",
   "metadata": {},
   "source": [
    "L'ARI est constant jusqu'à juin 2018. Après cette date il s'effondre.\n",
    "On retrouve le même laps de temps qu'avec le score de silhouette.\n",
    "\n",
    "Pour la maintenance on peut prévoir une période de 8 mois au delà de laquelle il est préférable d'entrainer à nouveau le modèle avec les nouvelles données obtenues."
   ]
  }
 ],
 "metadata": {
  "kernelspec": {
   "display_name": "myenv",
   "language": "python",
   "name": "myenv"
  },
  "language_info": {
   "codemirror_mode": {
    "name": "ipython",
    "version": 3
   },
   "file_extension": ".py",
   "mimetype": "text/x-python",
   "name": "python",
   "nbconvert_exporter": "python",
   "pygments_lexer": "ipython3",
   "version": "3.11.4"
  },
  "toc": {
   "base_numbering": 1,
   "nav_menu": {},
   "number_sections": false,
   "sideBar": true,
   "skip_h1_title": true,
   "title_cell": "Table of Contents",
   "title_sidebar": "Contents",
   "toc_cell": true,
   "toc_position": {
    "height": "calc(100% - 180px)",
    "left": "10px",
    "top": "150px",
    "width": "343.594px"
   },
   "toc_section_display": true,
   "toc_window_display": true
  }
 },
 "nbformat": 4,
 "nbformat_minor": 5
}
